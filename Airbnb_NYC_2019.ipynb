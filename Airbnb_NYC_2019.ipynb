{
 "cells": [
  {
   "cell_type": "code",
   "execution_count": 1,
   "metadata": {},
   "outputs": [
    {
     "data": {
      "text/plain": [
       "<Figure size 432x288 with 0 Axes>"
      ]
     },
     "metadata": {},
     "output_type": "display_data"
    }
   ],
   "source": [
    "import pandas as pd\n",
    "import numpy as np\n",
    "import matplotlib.pyplot as plt\n",
    "import seaborn as sns\n",
    "%matplotlib inline\n",
    "from sklearn.linear_model import LinearRegression\n",
    "from sklearn.model_selection import train_test_split\n",
    "from sklearn.metrics import r2_score, mean_squared_error\n",
    "plt.style.use('ggplot')\n",
    "plt.tight_layout()"
   ]
  },
  {
   "cell_type": "code",
   "execution_count": 242,
   "metadata": {},
   "outputs": [],
   "source": [
    "df = pd.read_csv('AB_NYC_2019.csv')"
   ]
  },
  {
   "cell_type": "code",
   "execution_count": 4,
   "metadata": {},
   "outputs": [
    {
     "name": "stdout",
     "output_type": "stream",
     "text": [
      "<class 'pandas.core.frame.DataFrame'>\n",
      "RangeIndex: 48895 entries, 0 to 48894\n",
      "Data columns (total 16 columns):\n",
      "id                                48895 non-null int64\n",
      "name                              48879 non-null object\n",
      "host_id                           48895 non-null int64\n",
      "host_name                         48874 non-null object\n",
      "neighbourhood_group               48895 non-null object\n",
      "neighbourhood                     48895 non-null object\n",
      "latitude                          48895 non-null float64\n",
      "longitude                         48895 non-null float64\n",
      "room_type                         48895 non-null object\n",
      "price                             48895 non-null int64\n",
      "minimum_nights                    48895 non-null int64\n",
      "number_of_reviews                 48895 non-null int64\n",
      "last_review                       38843 non-null object\n",
      "reviews_per_month                 38843 non-null float64\n",
      "calculated_host_listings_count    48895 non-null int64\n",
      "availability_365                  48895 non-null int64\n",
      "dtypes: float64(3), int64(7), object(6)\n",
      "memory usage: 6.0+ MB\n"
     ]
    }
   ],
   "source": [
    "df.info()"
   ]
  },
  {
   "cell_type": "code",
   "execution_count": 5,
   "metadata": {},
   "outputs": [
    {
     "data": {
      "text/html": [
       "<div>\n",
       "<style scoped>\n",
       "    .dataframe tbody tr th:only-of-type {\n",
       "        vertical-align: middle;\n",
       "    }\n",
       "\n",
       "    .dataframe tbody tr th {\n",
       "        vertical-align: top;\n",
       "    }\n",
       "\n",
       "    .dataframe thead th {\n",
       "        text-align: right;\n",
       "    }\n",
       "</style>\n",
       "<table border=\"1\" class=\"dataframe\">\n",
       "  <thead>\n",
       "    <tr style=\"text-align: right;\">\n",
       "      <th></th>\n",
       "      <th>id</th>\n",
       "      <th>name</th>\n",
       "      <th>host_id</th>\n",
       "      <th>host_name</th>\n",
       "      <th>neighbourhood_group</th>\n",
       "      <th>neighbourhood</th>\n",
       "      <th>latitude</th>\n",
       "      <th>longitude</th>\n",
       "      <th>room_type</th>\n",
       "      <th>price</th>\n",
       "      <th>minimum_nights</th>\n",
       "      <th>number_of_reviews</th>\n",
       "      <th>last_review</th>\n",
       "      <th>reviews_per_month</th>\n",
       "      <th>calculated_host_listings_count</th>\n",
       "      <th>availability_365</th>\n",
       "    </tr>\n",
       "  </thead>\n",
       "  <tbody>\n",
       "    <tr>\n",
       "      <td>0</td>\n",
       "      <td>2539</td>\n",
       "      <td>Clean &amp; quiet apt home by the park</td>\n",
       "      <td>2787</td>\n",
       "      <td>John</td>\n",
       "      <td>Brooklyn</td>\n",
       "      <td>Kensington</td>\n",
       "      <td>40.64749</td>\n",
       "      <td>-73.97237</td>\n",
       "      <td>Private room</td>\n",
       "      <td>149</td>\n",
       "      <td>1</td>\n",
       "      <td>9</td>\n",
       "      <td>2018-10-19</td>\n",
       "      <td>0.21</td>\n",
       "      <td>6</td>\n",
       "      <td>365</td>\n",
       "    </tr>\n",
       "    <tr>\n",
       "      <td>1</td>\n",
       "      <td>2595</td>\n",
       "      <td>Skylit Midtown Castle</td>\n",
       "      <td>2845</td>\n",
       "      <td>Jennifer</td>\n",
       "      <td>Manhattan</td>\n",
       "      <td>Midtown</td>\n",
       "      <td>40.75362</td>\n",
       "      <td>-73.98377</td>\n",
       "      <td>Entire home/apt</td>\n",
       "      <td>225</td>\n",
       "      <td>1</td>\n",
       "      <td>45</td>\n",
       "      <td>2019-05-21</td>\n",
       "      <td>0.38</td>\n",
       "      <td>2</td>\n",
       "      <td>355</td>\n",
       "    </tr>\n",
       "    <tr>\n",
       "      <td>2</td>\n",
       "      <td>3647</td>\n",
       "      <td>THE VILLAGE OF HARLEM....NEW YORK !</td>\n",
       "      <td>4632</td>\n",
       "      <td>Elisabeth</td>\n",
       "      <td>Manhattan</td>\n",
       "      <td>Harlem</td>\n",
       "      <td>40.80902</td>\n",
       "      <td>-73.94190</td>\n",
       "      <td>Private room</td>\n",
       "      <td>150</td>\n",
       "      <td>3</td>\n",
       "      <td>0</td>\n",
       "      <td>NaN</td>\n",
       "      <td>NaN</td>\n",
       "      <td>1</td>\n",
       "      <td>365</td>\n",
       "    </tr>\n",
       "    <tr>\n",
       "      <td>3</td>\n",
       "      <td>3831</td>\n",
       "      <td>Cozy Entire Floor of Brownstone</td>\n",
       "      <td>4869</td>\n",
       "      <td>LisaRoxanne</td>\n",
       "      <td>Brooklyn</td>\n",
       "      <td>Clinton Hill</td>\n",
       "      <td>40.68514</td>\n",
       "      <td>-73.95976</td>\n",
       "      <td>Entire home/apt</td>\n",
       "      <td>89</td>\n",
       "      <td>1</td>\n",
       "      <td>270</td>\n",
       "      <td>2019-07-05</td>\n",
       "      <td>4.64</td>\n",
       "      <td>1</td>\n",
       "      <td>194</td>\n",
       "    </tr>\n",
       "    <tr>\n",
       "      <td>4</td>\n",
       "      <td>5022</td>\n",
       "      <td>Entire Apt: Spacious Studio/Loft by central park</td>\n",
       "      <td>7192</td>\n",
       "      <td>Laura</td>\n",
       "      <td>Manhattan</td>\n",
       "      <td>East Harlem</td>\n",
       "      <td>40.79851</td>\n",
       "      <td>-73.94399</td>\n",
       "      <td>Entire home/apt</td>\n",
       "      <td>80</td>\n",
       "      <td>10</td>\n",
       "      <td>9</td>\n",
       "      <td>2018-11-19</td>\n",
       "      <td>0.10</td>\n",
       "      <td>1</td>\n",
       "      <td>0</td>\n",
       "    </tr>\n",
       "  </tbody>\n",
       "</table>\n",
       "</div>"
      ],
      "text/plain": [
       "     id                                              name  host_id  \\\n",
       "0  2539                Clean & quiet apt home by the park     2787   \n",
       "1  2595                             Skylit Midtown Castle     2845   \n",
       "2  3647               THE VILLAGE OF HARLEM....NEW YORK !     4632   \n",
       "3  3831                   Cozy Entire Floor of Brownstone     4869   \n",
       "4  5022  Entire Apt: Spacious Studio/Loft by central park     7192   \n",
       "\n",
       "     host_name neighbourhood_group neighbourhood  latitude  longitude  \\\n",
       "0         John            Brooklyn    Kensington  40.64749  -73.97237   \n",
       "1     Jennifer           Manhattan       Midtown  40.75362  -73.98377   \n",
       "2    Elisabeth           Manhattan        Harlem  40.80902  -73.94190   \n",
       "3  LisaRoxanne            Brooklyn  Clinton Hill  40.68514  -73.95976   \n",
       "4        Laura           Manhattan   East Harlem  40.79851  -73.94399   \n",
       "\n",
       "         room_type  price  minimum_nights  number_of_reviews last_review  \\\n",
       "0     Private room    149               1                  9  2018-10-19   \n",
       "1  Entire home/apt    225               1                 45  2019-05-21   \n",
       "2     Private room    150               3                  0         NaN   \n",
       "3  Entire home/apt     89               1                270  2019-07-05   \n",
       "4  Entire home/apt     80              10                  9  2018-11-19   \n",
       "\n",
       "   reviews_per_month  calculated_host_listings_count  availability_365  \n",
       "0               0.21                               6               365  \n",
       "1               0.38                               2               355  \n",
       "2                NaN                               1               365  \n",
       "3               4.64                               1               194  \n",
       "4               0.10                               1                 0  "
      ]
     },
     "execution_count": 5,
     "metadata": {},
     "output_type": "execute_result"
    }
   ],
   "source": [
    "df.head()"
   ]
  },
  {
   "cell_type": "code",
   "execution_count": 86,
   "metadata": {},
   "outputs": [
    {
     "data": {
      "text/html": [
       "<div>\n",
       "<style scoped>\n",
       "    .dataframe tbody tr th:only-of-type {\n",
       "        vertical-align: middle;\n",
       "    }\n",
       "\n",
       "    .dataframe tbody tr th {\n",
       "        vertical-align: top;\n",
       "    }\n",
       "\n",
       "    .dataframe thead th {\n",
       "        text-align: right;\n",
       "    }\n",
       "</style>\n",
       "<table border=\"1\" class=\"dataframe\">\n",
       "  <thead>\n",
       "    <tr style=\"text-align: right;\">\n",
       "      <th></th>\n",
       "      <th>id</th>\n",
       "      <th>host_id</th>\n",
       "      <th>latitude</th>\n",
       "      <th>longitude</th>\n",
       "      <th>price</th>\n",
       "      <th>minimum_nights</th>\n",
       "      <th>number_of_reviews</th>\n",
       "      <th>reviews_per_month</th>\n",
       "      <th>calculated_host_listings_count</th>\n",
       "      <th>availability_365</th>\n",
       "      <th>review_year</th>\n",
       "    </tr>\n",
       "  </thead>\n",
       "  <tbody>\n",
       "    <tr>\n",
       "      <td>count</td>\n",
       "      <td>3.445000e+04</td>\n",
       "      <td>3.445000e+04</td>\n",
       "      <td>34450.000000</td>\n",
       "      <td>34450.000000</td>\n",
       "      <td>34450.000000</td>\n",
       "      <td>34450.000000</td>\n",
       "      <td>34450.000000</td>\n",
       "      <td>34450.000000</td>\n",
       "      <td>34450.000000</td>\n",
       "      <td>34450.000000</td>\n",
       "      <td>34450.000000</td>\n",
       "    </tr>\n",
       "    <tr>\n",
       "      <td>mean</td>\n",
       "      <td>2.113167e+07</td>\n",
       "      <td>7.983464e+07</td>\n",
       "      <td>40.728255</td>\n",
       "      <td>-73.949403</td>\n",
       "      <td>158.453991</td>\n",
       "      <td>7.966212</td>\n",
       "      <td>30.797533</td>\n",
       "      <td>1.480379</td>\n",
       "      <td>9.564296</td>\n",
       "      <td>160.070914</td>\n",
       "      <td>1713.647402</td>\n",
       "    </tr>\n",
       "    <tr>\n",
       "      <td>std</td>\n",
       "      <td>1.133844e+07</td>\n",
       "      <td>8.579000e+07</td>\n",
       "      <td>0.056094</td>\n",
       "      <td>0.050391</td>\n",
       "      <td>244.551067</td>\n",
       "      <td>22.952423</td>\n",
       "      <td>50.446386</td>\n",
       "      <td>1.747427</td>\n",
       "      <td>38.933375</td>\n",
       "      <td>130.456585</td>\n",
       "      <td>723.120642</td>\n",
       "    </tr>\n",
       "    <tr>\n",
       "      <td>min</td>\n",
       "      <td>2.539000e+03</td>\n",
       "      <td>2.571000e+03</td>\n",
       "      <td>40.499790</td>\n",
       "      <td>-74.244420</td>\n",
       "      <td>0.000000</td>\n",
       "      <td>1.000000</td>\n",
       "      <td>0.000000</td>\n",
       "      <td>0.000000</td>\n",
       "      <td>1.000000</td>\n",
       "      <td>0.000000</td>\n",
       "      <td>0.000000</td>\n",
       "    </tr>\n",
       "    <tr>\n",
       "      <td>25%</td>\n",
       "      <td>1.216791e+07</td>\n",
       "      <td>8.481125e+06</td>\n",
       "      <td>40.688632</td>\n",
       "      <td>-73.983190</td>\n",
       "      <td>70.000000</td>\n",
       "      <td>2.000000</td>\n",
       "      <td>2.000000</td>\n",
       "      <td>0.200000</td>\n",
       "      <td>1.000000</td>\n",
       "      <td>32.000000</td>\n",
       "      <td>2018.000000</td>\n",
       "    </tr>\n",
       "    <tr>\n",
       "      <td>50%</td>\n",
       "      <td>2.284311e+07</td>\n",
       "      <td>3.993048e+07</td>\n",
       "      <td>40.723200</td>\n",
       "      <td>-73.954330</td>\n",
       "      <td>110.000000</td>\n",
       "      <td>3.000000</td>\n",
       "      <td>10.000000</td>\n",
       "      <td>0.880000</td>\n",
       "      <td>1.000000</td>\n",
       "      <td>141.000000</td>\n",
       "      <td>2019.000000</td>\n",
       "    </tr>\n",
       "    <tr>\n",
       "      <td>75%</td>\n",
       "      <td>3.104453e+07</td>\n",
       "      <td>1.400573e+08</td>\n",
       "      <td>40.762888</td>\n",
       "      <td>-73.931262</td>\n",
       "      <td>184.000000</td>\n",
       "      <td>5.000000</td>\n",
       "      <td>37.000000</td>\n",
       "      <td>2.260000</td>\n",
       "      <td>3.000000</td>\n",
       "      <td>292.000000</td>\n",
       "      <td>2019.000000</td>\n",
       "    </tr>\n",
       "    <tr>\n",
       "      <td>max</td>\n",
       "      <td>3.648724e+07</td>\n",
       "      <td>2.743213e+08</td>\n",
       "      <td>40.913060</td>\n",
       "      <td>-73.712990</td>\n",
       "      <td>10000.000000</td>\n",
       "      <td>1250.000000</td>\n",
       "      <td>629.000000</td>\n",
       "      <td>58.500000</td>\n",
       "      <td>327.000000</td>\n",
       "      <td>365.000000</td>\n",
       "      <td>2019.000000</td>\n",
       "    </tr>\n",
       "  </tbody>\n",
       "</table>\n",
       "</div>"
      ],
      "text/plain": [
       "                 id       host_id      latitude     longitude         price  \\\n",
       "count  3.445000e+04  3.445000e+04  34450.000000  34450.000000  34450.000000   \n",
       "mean   2.113167e+07  7.983464e+07     40.728255    -73.949403    158.453991   \n",
       "std    1.133844e+07  8.579000e+07      0.056094      0.050391    244.551067   \n",
       "min    2.539000e+03  2.571000e+03     40.499790    -74.244420      0.000000   \n",
       "25%    1.216791e+07  8.481125e+06     40.688632    -73.983190     70.000000   \n",
       "50%    2.284311e+07  3.993048e+07     40.723200    -73.954330    110.000000   \n",
       "75%    3.104453e+07  1.400573e+08     40.762888    -73.931262    184.000000   \n",
       "max    3.648724e+07  2.743213e+08     40.913060    -73.712990  10000.000000   \n",
       "\n",
       "       minimum_nights  number_of_reviews  reviews_per_month  \\\n",
       "count    34450.000000       34450.000000       34450.000000   \n",
       "mean         7.966212          30.797533           1.480379   \n",
       "std         22.952423          50.446386           1.747427   \n",
       "min          1.000000           0.000000           0.000000   \n",
       "25%          2.000000           2.000000           0.200000   \n",
       "50%          3.000000          10.000000           0.880000   \n",
       "75%          5.000000          37.000000           2.260000   \n",
       "max       1250.000000         629.000000          58.500000   \n",
       "\n",
       "       calculated_host_listings_count  availability_365   review_year  \n",
       "count                    34450.000000      34450.000000  34450.000000  \n",
       "mean                         9.564296        160.070914   1713.647402  \n",
       "std                         38.933375        130.456585    723.120642  \n",
       "min                          1.000000          0.000000      0.000000  \n",
       "25%                          1.000000         32.000000   2018.000000  \n",
       "50%                          1.000000        141.000000   2019.000000  \n",
       "75%                          3.000000        292.000000   2019.000000  \n",
       "max                        327.000000        365.000000   2019.000000  "
      ]
     },
     "execution_count": 86,
     "metadata": {},
     "output_type": "execute_result"
    }
   ],
   "source": [
    "df.describe()"
   ]
  },
  {
   "cell_type": "code",
   "execution_count": 198,
   "metadata": {},
   "outputs": [
    {
     "data": {
      "text/plain": [
       "id                                   0\n",
       "name                                 4\n",
       "host_id                              0\n",
       "host_name                           10\n",
       "neighbourhood_group                  0\n",
       "neighbourhood                        0\n",
       "latitude                             0\n",
       "longitude                            0\n",
       "room_type                            0\n",
       "price                                0\n",
       "minimum_nights                       0\n",
       "number_of_reviews                    0\n",
       "last_review                       5207\n",
       "reviews_per_month                    0\n",
       "calculated_host_listings_count       0\n",
       "availability_365                     0\n",
       "review_year                          0\n",
       "revenue                              0\n",
       "total_revenue                        0\n",
       "average_revenue                      0\n",
       "dtype: int64"
      ]
     },
     "execution_count": 198,
     "metadata": {},
     "output_type": "execute_result"
    }
   ],
   "source": [
    "df.isnull().sum()"
   ]
  },
  {
   "cell_type": "code",
   "execution_count": 243,
   "metadata": {},
   "outputs": [],
   "source": [
    "# availability_365 = 0 suggests two things: a. when the listing has been removed, b. when the room has been booked\n",
    "# in order to remove condition a from the data, I select those 0 availability posts when they have at least one review in 2019\n",
    "df['last_review'] = pd.to_datetime(df['last_review'])\n",
    "df['review_year'] = df['last_review'].apply(lambda last_review:last_review.year)\n",
    "df['review_year'] = df['review_year'].fillna(0)\n",
    "df['review_year'] = df.review_year.astype(int)\n",
    "df = pd.concat([df[(df['availability_365']==0) & (df['review_year']==2019)],df[df['availability_365']>0]])"
   ]
  },
  {
   "cell_type": "code",
   "execution_count": 244,
   "metadata": {},
   "outputs": [],
   "source": [
    "# fill NA data with 0 in reviews_per_month column\n",
    "df['reviews_per_month'] = df['reviews_per_month'].fillna(0)"
   ]
  },
  {
   "cell_type": "code",
   "execution_count": 127,
   "metadata": {},
   "outputs": [
    {
     "name": "stdout",
     "output_type": "stream",
     "text": [
      "<class 'pandas.core.frame.DataFrame'>\n",
      "Int64Index: 34450 entries, 132 to 48894\n",
      "Data columns (total 17 columns):\n",
      "id                                34450 non-null int64\n",
      "name                              34446 non-null object\n",
      "host_id                           34450 non-null int64\n",
      "host_name                         34440 non-null object\n",
      "neighbourhood_group               34450 non-null object\n",
      "neighbourhood                     34450 non-null object\n",
      "latitude                          34450 non-null float64\n",
      "longitude                         34450 non-null float64\n",
      "room_type                         34450 non-null object\n",
      "price                             34450 non-null int64\n",
      "minimum_nights                    34450 non-null int64\n",
      "number_of_reviews                 34450 non-null int64\n",
      "last_review                       29243 non-null datetime64[ns]\n",
      "reviews_per_month                 34450 non-null float64\n",
      "calculated_host_listings_count    34450 non-null int64\n",
      "availability_365                  34450 non-null int64\n",
      "review_year                       34450 non-null int64\n",
      "dtypes: datetime64[ns](1), float64(3), int64(8), object(5)\n",
      "memory usage: 4.7+ MB\n"
     ]
    }
   ],
   "source": [
    "df.info()"
   ]
  },
  {
   "cell_type": "code",
   "execution_count": 111,
   "metadata": {},
   "outputs": [
    {
     "data": {
      "text/html": [
       "<div>\n",
       "<style scoped>\n",
       "    .dataframe tbody tr th:only-of-type {\n",
       "        vertical-align: middle;\n",
       "    }\n",
       "\n",
       "    .dataframe tbody tr th {\n",
       "        vertical-align: top;\n",
       "    }\n",
       "\n",
       "    .dataframe thead th {\n",
       "        text-align: right;\n",
       "    }\n",
       "</style>\n",
       "<table border=\"1\" class=\"dataframe\">\n",
       "  <thead>\n",
       "    <tr style=\"text-align: right;\">\n",
       "      <th></th>\n",
       "      <th>id</th>\n",
       "      <th>host_id</th>\n",
       "      <th>latitude</th>\n",
       "      <th>longitude</th>\n",
       "      <th>price</th>\n",
       "      <th>minimum_nights</th>\n",
       "      <th>number_of_reviews</th>\n",
       "      <th>reviews_per_month</th>\n",
       "      <th>calculated_host_listings_count</th>\n",
       "      <th>availability_365</th>\n",
       "      <th>review_year</th>\n",
       "    </tr>\n",
       "  </thead>\n",
       "  <tbody>\n",
       "    <tr>\n",
       "      <td>count</td>\n",
       "      <td>3.445000e+04</td>\n",
       "      <td>3.445000e+04</td>\n",
       "      <td>34450.000000</td>\n",
       "      <td>34450.000000</td>\n",
       "      <td>34450.000000</td>\n",
       "      <td>34450.000000</td>\n",
       "      <td>34450.000000</td>\n",
       "      <td>34450.000000</td>\n",
       "      <td>34450.000000</td>\n",
       "      <td>34450.000000</td>\n",
       "      <td>34450.000000</td>\n",
       "    </tr>\n",
       "    <tr>\n",
       "      <td>mean</td>\n",
       "      <td>2.113167e+07</td>\n",
       "      <td>7.983464e+07</td>\n",
       "      <td>40.728255</td>\n",
       "      <td>-73.949403</td>\n",
       "      <td>158.453991</td>\n",
       "      <td>7.966212</td>\n",
       "      <td>30.797533</td>\n",
       "      <td>1.480379</td>\n",
       "      <td>9.564296</td>\n",
       "      <td>160.070914</td>\n",
       "      <td>1713.647402</td>\n",
       "    </tr>\n",
       "    <tr>\n",
       "      <td>std</td>\n",
       "      <td>1.133844e+07</td>\n",
       "      <td>8.579000e+07</td>\n",
       "      <td>0.056094</td>\n",
       "      <td>0.050391</td>\n",
       "      <td>244.551067</td>\n",
       "      <td>22.952423</td>\n",
       "      <td>50.446386</td>\n",
       "      <td>1.747427</td>\n",
       "      <td>38.933375</td>\n",
       "      <td>130.456585</td>\n",
       "      <td>723.120642</td>\n",
       "    </tr>\n",
       "    <tr>\n",
       "      <td>min</td>\n",
       "      <td>2.539000e+03</td>\n",
       "      <td>2.571000e+03</td>\n",
       "      <td>40.499790</td>\n",
       "      <td>-74.244420</td>\n",
       "      <td>0.000000</td>\n",
       "      <td>1.000000</td>\n",
       "      <td>0.000000</td>\n",
       "      <td>0.000000</td>\n",
       "      <td>1.000000</td>\n",
       "      <td>0.000000</td>\n",
       "      <td>0.000000</td>\n",
       "    </tr>\n",
       "    <tr>\n",
       "      <td>25%</td>\n",
       "      <td>1.216791e+07</td>\n",
       "      <td>8.481125e+06</td>\n",
       "      <td>40.688632</td>\n",
       "      <td>-73.983190</td>\n",
       "      <td>70.000000</td>\n",
       "      <td>2.000000</td>\n",
       "      <td>2.000000</td>\n",
       "      <td>0.200000</td>\n",
       "      <td>1.000000</td>\n",
       "      <td>32.000000</td>\n",
       "      <td>2018.000000</td>\n",
       "    </tr>\n",
       "    <tr>\n",
       "      <td>50%</td>\n",
       "      <td>2.284311e+07</td>\n",
       "      <td>3.993048e+07</td>\n",
       "      <td>40.723200</td>\n",
       "      <td>-73.954330</td>\n",
       "      <td>110.000000</td>\n",
       "      <td>3.000000</td>\n",
       "      <td>10.000000</td>\n",
       "      <td>0.880000</td>\n",
       "      <td>1.000000</td>\n",
       "      <td>141.000000</td>\n",
       "      <td>2019.000000</td>\n",
       "    </tr>\n",
       "    <tr>\n",
       "      <td>75%</td>\n",
       "      <td>3.104453e+07</td>\n",
       "      <td>1.400573e+08</td>\n",
       "      <td>40.762888</td>\n",
       "      <td>-73.931262</td>\n",
       "      <td>184.000000</td>\n",
       "      <td>5.000000</td>\n",
       "      <td>37.000000</td>\n",
       "      <td>2.260000</td>\n",
       "      <td>3.000000</td>\n",
       "      <td>292.000000</td>\n",
       "      <td>2019.000000</td>\n",
       "    </tr>\n",
       "    <tr>\n",
       "      <td>max</td>\n",
       "      <td>3.648724e+07</td>\n",
       "      <td>2.743213e+08</td>\n",
       "      <td>40.913060</td>\n",
       "      <td>-73.712990</td>\n",
       "      <td>10000.000000</td>\n",
       "      <td>1250.000000</td>\n",
       "      <td>629.000000</td>\n",
       "      <td>58.500000</td>\n",
       "      <td>327.000000</td>\n",
       "      <td>365.000000</td>\n",
       "      <td>2019.000000</td>\n",
       "    </tr>\n",
       "  </tbody>\n",
       "</table>\n",
       "</div>"
      ],
      "text/plain": [
       "                 id       host_id      latitude     longitude         price  \\\n",
       "count  3.445000e+04  3.445000e+04  34450.000000  34450.000000  34450.000000   \n",
       "mean   2.113167e+07  7.983464e+07     40.728255    -73.949403    158.453991   \n",
       "std    1.133844e+07  8.579000e+07      0.056094      0.050391    244.551067   \n",
       "min    2.539000e+03  2.571000e+03     40.499790    -74.244420      0.000000   \n",
       "25%    1.216791e+07  8.481125e+06     40.688632    -73.983190     70.000000   \n",
       "50%    2.284311e+07  3.993048e+07     40.723200    -73.954330    110.000000   \n",
       "75%    3.104453e+07  1.400573e+08     40.762888    -73.931262    184.000000   \n",
       "max    3.648724e+07  2.743213e+08     40.913060    -73.712990  10000.000000   \n",
       "\n",
       "       minimum_nights  number_of_reviews  reviews_per_month  \\\n",
       "count    34450.000000       34450.000000       34450.000000   \n",
       "mean         7.966212          30.797533           1.480379   \n",
       "std         22.952423          50.446386           1.747427   \n",
       "min          1.000000           0.000000           0.000000   \n",
       "25%          2.000000           2.000000           0.200000   \n",
       "50%          3.000000          10.000000           0.880000   \n",
       "75%          5.000000          37.000000           2.260000   \n",
       "max       1250.000000         629.000000          58.500000   \n",
       "\n",
       "       calculated_host_listings_count  availability_365   review_year  \n",
       "count                    34450.000000      34450.000000  34450.000000  \n",
       "mean                         9.564296        160.070914   1713.647402  \n",
       "std                         38.933375        130.456585    723.120642  \n",
       "min                          1.000000          0.000000      0.000000  \n",
       "25%                          1.000000         32.000000   2018.000000  \n",
       "50%                          1.000000        141.000000   2019.000000  \n",
       "75%                          3.000000        292.000000   2019.000000  \n",
       "max                        327.000000        365.000000   2019.000000  "
      ]
     },
     "execution_count": 111,
     "metadata": {},
     "output_type": "execute_result"
    }
   ],
   "source": [
    "df.describe()"
   ]
  },
  {
   "cell_type": "code",
   "execution_count": 115,
   "metadata": {},
   "outputs": [
    {
     "data": {
      "text/plain": [
       "id                                   0\n",
       "name                                 4\n",
       "host_id                              0\n",
       "host_name                           10\n",
       "neighbourhood_group                  0\n",
       "neighbourhood                        0\n",
       "latitude                             0\n",
       "longitude                            0\n",
       "room_type                            0\n",
       "price                                0\n",
       "minimum_nights                       0\n",
       "number_of_reviews                    0\n",
       "last_review                       5207\n",
       "reviews_per_month                    0\n",
       "calculated_host_listings_count       0\n",
       "availability_365                     0\n",
       "review_year                          0\n",
       "dtype: int64"
      ]
     },
     "execution_count": 115,
     "metadata": {},
     "output_type": "execute_result"
    }
   ],
   "source": [
    "df.isnull().sum()"
   ]
  },
  {
   "cell_type": "markdown",
   "metadata": {},
   "source": [
    "Q1. How do boroughs differ?"
   ]
  },
  {
   "cell_type": "code",
   "execution_count": 245,
   "metadata": {},
   "outputs": [
    {
     "data": {
      "image/png": "[encoded data removed]",
      "text/plain": [
       "<Figure size 476.5x360 with 1 Axes>"
      ]
     },
     "metadata": {
      "needs_background": "light"
     },
     "output_type": "display_data"
    }
   ],
   "source": [
    "# Availability according to different room_type in different areas\n",
    "fig = sns.catplot(x='neighbourhood_group',y='availability_365',kind='box',hue='room_type',data=df,palette='pastel')\n",
    "fig.fig.suptitle('Where is the most popular area?',fontsize=15,y=1.05)\n",
    "fig.savefig('popular_area.png', bbox_inches = 'tight')"
   ]
  },
  {
   "cell_type": "code",
   "execution_count": 248,
   "metadata": {},
   "outputs": [
    {
     "data": {
      "image/png": "[encoded data removed]",
      "text/plain": [
       "<Figure size 476.5x360 with 1 Axes>"
      ]
     },
     "metadata": {
      "needs_background": "light"
     },
     "output_type": "display_data"
    }
   ],
   "source": [
    "# Price according to different room_type in different areas\n",
    "fig2 = sns.catplot(x='neighbourhood_group',y='price',data=df,kind='bar',hue='room_type',palette='pastel')\n",
    "fig2.fig.suptitle('Where is the most expensive area?',fontsize=15,y=1.05)\n",
    "fig2.savefig('price_area.png', bbox_inches = 'tight')"
   ]
  },
  {
   "cell_type": "markdown",
   "metadata": {},
   "source": [
    "Q2. Who are the most successful hosts?"
   ]
  },
  {
   "cell_type": "code",
   "execution_count": 249,
   "metadata": {},
   "outputs": [],
   "source": [
    "df['revenue'] = (365-df['availability_365'])*df['price']\n",
    "df['total_revenue'] = df.groupby('host_id')['revenue'].transform(sum)\n",
    "df['average_revenue'] = df['total_revenue']/df['calculated_host_listings_count']"
   ]
  },
  {
   "cell_type": "code",
   "execution_count": 267,
   "metadata": {},
   "outputs": [
    {
     "data": {
      "image/png": "[encoded data removed]",
      "text/plain": [
       "<Figure size 476.5x360 with 1 Axes>"
      ]
     },
     "metadata": {
      "needs_background": "light"
     },
     "output_type": "display_data"
    }
   ],
   "source": [
    "# The count of the 75% percentile hosts according to different room_type in different areas\n",
    "df2 = df[df['average_revenue']>=df['average_revenue'].quantile(0.75)]\n",
    "fig3 = sns.catplot(x='neighbourhood_group',data=df2,hue='room_type',kind='count',palette='Pastel1')\n",
    "fig3.fig.suptitle('Who are the most successful hosts?',fontsize=15,y=1.05)\n",
    "fig3.savefig('host.png', bbox_inches = 'tight')"
   ]
  },
  {
   "cell_type": "code",
   "execution_count": 268,
   "metadata": {},
   "outputs": [
    {
     "data": {
      "text/plain": [
       "37497.5"
      ]
     },
     "execution_count": 268,
     "metadata": {},
     "output_type": "execute_result"
    }
   ],
   "source": [
    "df['average_revenue'].quantile(0.75)"
   ]
  },
  {
   "cell_type": "code",
   "execution_count": 205,
   "metadata": {},
   "outputs": [
    {
     "data": {
      "text/plain": [
       "<seaborn.axisgrid.FacetGrid at 0x1a27fa7390>"
      ]
     },
     "execution_count": 205,
     "metadata": {},
     "output_type": "execute_result"
    },
    {
     "data": {
      "image/png": "[encoded data removed]",
      "text/plain": [
       "<Figure size 476.5x360 with 1 Axes>"
      ]
     },
     "metadata": {
      "needs_background": "light"
     },
     "output_type": "display_data"
    }
   ],
   "source": [
    "sns.catplot(x='neighbourhood_group',y='price',data=df2,hue='room_type',kind='box',palette='Pastel1')"
   ]
  },
  {
   "cell_type": "code",
   "execution_count": 206,
   "metadata": {},
   "outputs": [
    {
     "data": {
      "text/plain": [
       "<seaborn.axisgrid.FacetGrid at 0x1a26f31090>"
      ]
     },
     "execution_count": 206,
     "metadata": {},
     "output_type": "execute_result"
    },
    {
     "data": {
      "image/png": "[encoded data removed]",
      "text/plain": [
       "<Figure size 476.5x360 with 1 Axes>"
      ]
     },
     "metadata": {
      "needs_background": "light"
     },
     "output_type": "display_data"
    }
   ],
   "source": [
    "sns.catplot(x='neighbourhood_group',y='average_revenue',data=df2,hue='room_type',kind='box',palette='Pastel1')"
   ]
  },
  {
   "cell_type": "markdown",
   "metadata": {},
   "source": [
    "Q3. What impact list price?"
   ]
  },
  {
   "cell_type": "code",
   "execution_count": 207,
   "metadata": {},
   "outputs": [
    {
     "data": {
      "text/plain": [
       "id                                         int64\n",
       "name                                      object\n",
       "host_id                                    int64\n",
       "host_name                                 object\n",
       "neighbourhood_group                       object\n",
       "neighbourhood                             object\n",
       "latitude                                 float64\n",
       "longitude                                float64\n",
       "room_type                                 object\n",
       "price                                      int64\n",
       "minimum_nights                             int64\n",
       "number_of_reviews                          int64\n",
       "last_review                       datetime64[ns]\n",
       "reviews_per_month                        float64\n",
       "calculated_host_listings_count             int64\n",
       "availability_365                           int64\n",
       "review_year                                int64\n",
       "revenue                                    int64\n",
       "total_revenue                              int64\n",
       "average_revenue                          float64\n",
       "dtype: object"
      ]
     },
     "execution_count": 207,
     "metadata": {},
     "output_type": "execute_result"
    }
   ],
   "source": [
    "# Check the types of each variable\n",
    "df.dtypes"
   ]
  },
  {
   "cell_type": "code",
   "execution_count": 208,
   "metadata": {},
   "outputs": [
    {
     "data": {
      "text/html": [
       "<div>\n",
       "<style scoped>\n",
       "    .dataframe tbody tr th:only-of-type {\n",
       "        vertical-align: middle;\n",
       "    }\n",
       "\n",
       "    .dataframe tbody tr th {\n",
       "        vertical-align: top;\n",
       "    }\n",
       "\n",
       "    .dataframe thead th {\n",
       "        text-align: right;\n",
       "    }\n",
       "</style>\n",
       "<table border=\"1\" class=\"dataframe\">\n",
       "  <thead>\n",
       "    <tr style=\"text-align: right;\">\n",
       "      <th></th>\n",
       "      <th>id</th>\n",
       "      <th>host_id</th>\n",
       "      <th>latitude</th>\n",
       "      <th>longitude</th>\n",
       "      <th>price</th>\n",
       "      <th>minimum_nights</th>\n",
       "      <th>number_of_reviews</th>\n",
       "      <th>reviews_per_month</th>\n",
       "      <th>calculated_host_listings_count</th>\n",
       "      <th>availability_365</th>\n",
       "      <th>review_year</th>\n",
       "      <th>revenue</th>\n",
       "      <th>total_revenue</th>\n",
       "      <th>average_revenue</th>\n",
       "    </tr>\n",
       "  </thead>\n",
       "  <tbody>\n",
       "    <tr>\n",
       "      <td>count</td>\n",
       "      <td>3.445000e+04</td>\n",
       "      <td>3.445000e+04</td>\n",
       "      <td>34450.000000</td>\n",
       "      <td>34450.000000</td>\n",
       "      <td>34450.000000</td>\n",
       "      <td>34450.000000</td>\n",
       "      <td>34450.000000</td>\n",
       "      <td>34450.000000</td>\n",
       "      <td>34450.000000</td>\n",
       "      <td>34450.000000</td>\n",
       "      <td>34450.000000</td>\n",
       "      <td>3.445000e+04</td>\n",
       "      <td>3.445000e+04</td>\n",
       "      <td>3.445000e+04</td>\n",
       "    </tr>\n",
       "    <tr>\n",
       "      <td>mean</td>\n",
       "      <td>2.113167e+07</td>\n",
       "      <td>7.983464e+07</td>\n",
       "      <td>40.728255</td>\n",
       "      <td>-73.949403</td>\n",
       "      <td>158.453991</td>\n",
       "      <td>7.966212</td>\n",
       "      <td>30.797533</td>\n",
       "      <td>1.480379</td>\n",
       "      <td>9.564296</td>\n",
       "      <td>160.070914</td>\n",
       "      <td>1713.647402</td>\n",
       "      <td>2.971850e+04</td>\n",
       "      <td>1.929330e+05</td>\n",
       "      <td>2.932989e+04</td>\n",
       "    </tr>\n",
       "    <tr>\n",
       "      <td>std</td>\n",
       "      <td>1.133844e+07</td>\n",
       "      <td>8.579000e+07</td>\n",
       "      <td>0.056094</td>\n",
       "      <td>0.050391</td>\n",
       "      <td>244.551067</td>\n",
       "      <td>22.952423</td>\n",
       "      <td>50.446386</td>\n",
       "      <td>1.747427</td>\n",
       "      <td>38.933375</td>\n",
       "      <td>130.456585</td>\n",
       "      <td>723.120642</td>\n",
       "      <td>4.790159e+04</td>\n",
       "      <td>8.745475e+05</td>\n",
       "      <td>4.431212e+04</td>\n",
       "    </tr>\n",
       "    <tr>\n",
       "      <td>min</td>\n",
       "      <td>2.539000e+03</td>\n",
       "      <td>2.571000e+03</td>\n",
       "      <td>40.499790</td>\n",
       "      <td>-74.244420</td>\n",
       "      <td>0.000000</td>\n",
       "      <td>1.000000</td>\n",
       "      <td>0.000000</td>\n",
       "      <td>0.000000</td>\n",
       "      <td>1.000000</td>\n",
       "      <td>0.000000</td>\n",
       "      <td>0.000000</td>\n",
       "      <td>0.000000e+00</td>\n",
       "      <td>0.000000e+00</td>\n",
       "      <td>0.000000e+00</td>\n",
       "    </tr>\n",
       "    <tr>\n",
       "      <td>25%</td>\n",
       "      <td>1.216791e+07</td>\n",
       "      <td>8.481125e+06</td>\n",
       "      <td>40.688632</td>\n",
       "      <td>-73.983190</td>\n",
       "      <td>70.000000</td>\n",
       "      <td>2.000000</td>\n",
       "      <td>2.000000</td>\n",
       "      <td>0.200000</td>\n",
       "      <td>1.000000</td>\n",
       "      <td>32.000000</td>\n",
       "      <td>2018.000000</td>\n",
       "      <td>7.887000e+03</td>\n",
       "      <td>1.655625e+04</td>\n",
       "      <td>9.269250e+03</td>\n",
       "    </tr>\n",
       "    <tr>\n",
       "      <td>50%</td>\n",
       "      <td>2.284311e+07</td>\n",
       "      <td>3.993048e+07</td>\n",
       "      <td>40.723200</td>\n",
       "      <td>-73.954330</td>\n",
       "      <td>110.000000</td>\n",
       "      <td>3.000000</td>\n",
       "      <td>10.000000</td>\n",
       "      <td>0.880000</td>\n",
       "      <td>1.000000</td>\n",
       "      <td>141.000000</td>\n",
       "      <td>2019.000000</td>\n",
       "      <td>2.023600e+04</td>\n",
       "      <td>3.512900e+04</td>\n",
       "      <td>2.007500e+04</td>\n",
       "    </tr>\n",
       "    <tr>\n",
       "      <td>75%</td>\n",
       "      <td>3.104453e+07</td>\n",
       "      <td>1.400573e+08</td>\n",
       "      <td>40.762888</td>\n",
       "      <td>-73.931262</td>\n",
       "      <td>184.000000</td>\n",
       "      <td>5.000000</td>\n",
       "      <td>37.000000</td>\n",
       "      <td>2.260000</td>\n",
       "      <td>3.000000</td>\n",
       "      <td>292.000000</td>\n",
       "      <td>2019.000000</td>\n",
       "      <td>3.883000e+04</td>\n",
       "      <td>6.851550e+04</td>\n",
       "      <td>3.749750e+04</td>\n",
       "    </tr>\n",
       "    <tr>\n",
       "      <td>max</td>\n",
       "      <td>3.648724e+07</td>\n",
       "      <td>2.743213e+08</td>\n",
       "      <td>40.913060</td>\n",
       "      <td>-73.712990</td>\n",
       "      <td>10000.000000</td>\n",
       "      <td>1250.000000</td>\n",
       "      <td>629.000000</td>\n",
       "      <td>58.500000</td>\n",
       "      <td>327.000000</td>\n",
       "      <td>365.000000</td>\n",
       "      <td>2019.000000</td>\n",
       "      <td>2.820000e+06</td>\n",
       "      <td>8.501971e+06</td>\n",
       "      <td>2.820000e+06</td>\n",
       "    </tr>\n",
       "  </tbody>\n",
       "</table>\n",
       "</div>"
      ],
      "text/plain": [
       "                 id       host_id      latitude     longitude         price  \\\n",
       "count  3.445000e+04  3.445000e+04  34450.000000  34450.000000  34450.000000   \n",
       "mean   2.113167e+07  7.983464e+07     40.728255    -73.949403    158.453991   \n",
       "std    1.133844e+07  8.579000e+07      0.056094      0.050391    244.551067   \n",
       "min    2.539000e+03  2.571000e+03     40.499790    -74.244420      0.000000   \n",
       "25%    1.216791e+07  8.481125e+06     40.688632    -73.983190     70.000000   \n",
       "50%    2.284311e+07  3.993048e+07     40.723200    -73.954330    110.000000   \n",
       "75%    3.104453e+07  1.400573e+08     40.762888    -73.931262    184.000000   \n",
       "max    3.648724e+07  2.743213e+08     40.913060    -73.712990  10000.000000   \n",
       "\n",
       "       minimum_nights  number_of_reviews  reviews_per_month  \\\n",
       "count    34450.000000       34450.000000       34450.000000   \n",
       "mean         7.966212          30.797533           1.480379   \n",
       "std         22.952423          50.446386           1.747427   \n",
       "min          1.000000           0.000000           0.000000   \n",
       "25%          2.000000           2.000000           0.200000   \n",
       "50%          3.000000          10.000000           0.880000   \n",
       "75%          5.000000          37.000000           2.260000   \n",
       "max       1250.000000         629.000000          58.500000   \n",
       "\n",
       "       calculated_host_listings_count  availability_365   review_year  \\\n",
       "count                    34450.000000      34450.000000  34450.000000   \n",
       "mean                         9.564296        160.070914   1713.647402   \n",
       "std                         38.933375        130.456585    723.120642   \n",
       "min                          1.000000          0.000000      0.000000   \n",
       "25%                          1.000000         32.000000   2018.000000   \n",
       "50%                          1.000000        141.000000   2019.000000   \n",
       "75%                          3.000000        292.000000   2019.000000   \n",
       "max                        327.000000        365.000000   2019.000000   \n",
       "\n",
       "            revenue  total_revenue  average_revenue  \n",
       "count  3.445000e+04   3.445000e+04     3.445000e+04  \n",
       "mean   2.971850e+04   1.929330e+05     2.932989e+04  \n",
       "std    4.790159e+04   8.745475e+05     4.431212e+04  \n",
       "min    0.000000e+00   0.000000e+00     0.000000e+00  \n",
       "25%    7.887000e+03   1.655625e+04     9.269250e+03  \n",
       "50%    2.023600e+04   3.512900e+04     2.007500e+04  \n",
       "75%    3.883000e+04   6.851550e+04     3.749750e+04  \n",
       "max    2.820000e+06   8.501971e+06     2.820000e+06  "
      ]
     },
     "execution_count": 208,
     "metadata": {},
     "output_type": "execute_result"
    }
   ],
   "source": [
    "# Check the numerical variable\n",
    "df.describe()"
   ]
  },
  {
   "cell_type": "code",
   "execution_count": 251,
   "metadata": {},
   "outputs": [],
   "source": [
    "df_new = df.drop(['name','host_name','neighbourhood','last_review','id','host_id','number_of_reviews','review_year','revenue','total_revenue','average_revenue'],axis=1)"
   ]
  },
  {
   "cell_type": "code",
   "execution_count": 252,
   "metadata": {},
   "outputs": [
    {
     "data": {
      "text/plain": [
       "array([[<matplotlib.axes._subplots.AxesSubplot object at 0x1a343a2c10>,\n",
       "        <matplotlib.axes._subplots.AxesSubplot object at 0x1a33988790>],\n",
       "       [<matplotlib.axes._subplots.AxesSubplot object at 0x1a3399be90>,\n",
       "        <matplotlib.axes._subplots.AxesSubplot object at 0x1a347c26d0>],\n",
       "       [<matplotlib.axes._subplots.AxesSubplot object at 0x1a324c2ed0>,\n",
       "        <matplotlib.axes._subplots.AxesSubplot object at 0x1a333e4710>],\n",
       "       [<matplotlib.axes._subplots.AxesSubplot object at 0x1a33419f10>,\n",
       "        <matplotlib.axes._subplots.AxesSubplot object at 0x1a2a60a750>]],\n",
       "      dtype=object)"
      ]
     },
     "execution_count": 252,
     "metadata": {},
     "output_type": "execute_result"
    },
    {
     "data": {
      "image/png": "[encoded data removed]",
      "text/plain": [
       "<Figure size 432x288 with 8 Axes>"
      ]
     },
     "metadata": {
      "needs_background": "light"
     },
     "output_type": "display_data"
    }
   ],
   "source": [
    "# Check the distribution of each numerical variable\n",
    "df_new.hist(color='green',layout=(4,2))"
   ]
  },
  {
   "cell_type": "code",
   "execution_count": 253,
   "metadata": {},
   "outputs": [
    {
     "data": {
      "text/plain": [
       "<matplotlib.axes._subplots.AxesSubplot at 0x1a34383890>"
      ]
     },
     "execution_count": 253,
     "metadata": {},
     "output_type": "execute_result"
    },
    {
     "data": {
      "image/png": "[encoded data removed]",
      "text/plain": [
       "<Figure size 432x288 with 2 Axes>"
      ]
     },
     "metadata": {
      "needs_background": "light"
     },
     "output_type": "display_data"
    }
   ],
   "source": [
    "# Check the correlation between numerical variables\n",
    "sns.heatmap(df_new.corr(),annot = True,cmap='Pastel1')"
   ]
  },
  {
   "cell_type": "code",
   "execution_count": 254,
   "metadata": {},
   "outputs": [],
   "source": [
    "def create_dummy_df(df, cat_cols, dummy_na):\n",
    "    \n",
    "    for col in  cat_cols:\n",
    "        try:\n",
    "            # for each cat add dummy var, drop original column\n",
    "            df = pd.concat([df.drop(col, axis=1), pd.get_dummies(df[col], prefix=col, prefix_sep='_', drop_first=True, dummy_na=dummy_na)], axis=1)\n",
    "        except:\n",
    "            continue\n",
    "    return df"
   ]
  },
  {
   "cell_type": "code",
   "execution_count": 255,
   "metadata": {},
   "outputs": [],
   "source": [
    "def clean_fit_linear_mod(df, response_col, cat_cols, dummy_na, test_size=.3, rand_state=22):\n",
    "  \n",
    "    #Drop the rows with missing response values\n",
    "    df  = df.dropna(subset=[response_col], axis=0)\n",
    "\n",
    "    #Drop columns with all NaN values\n",
    "    df = df.dropna(how='all', axis=1)\n",
    "\n",
    "    #Dummy categorical variables\n",
    "    df = create_dummy_df(df, cat_cols, dummy_na)\n",
    "\n",
    "    #Split into explanatory and response variables\n",
    "    X = df.drop(response_col, axis=1)\n",
    "    y = df[response_col]\n",
    "\n",
    "    #Split into train and test\n",
    "    X_train, X_test, y_train, y_test = train_test_split(X, y, test_size=test_size, random_state=rand_state)\n",
    "\n",
    "    lm_model = LinearRegression(normalize=True) # Instantiate\n",
    "    lm_model.fit(X_train, y_train) #Fit\n",
    "\n",
    "    #Predict using your model\n",
    "    y_test_preds = lm_model.predict(X_test)\n",
    "    y_train_preds = lm_model.predict(X_train)\n",
    "\n",
    "    #Score using your model\n",
    "    test_score = r2_score(y_test, y_test_preds)\n",
    "    train_score = r2_score(y_train, y_train_preds)\n",
    "\n",
    "    return test_score, train_score, lm_model, X_train, X_test, y_train, y_test\n"
   ]
  },
  {
   "cell_type": "code",
   "execution_count": 256,
   "metadata": {},
   "outputs": [],
   "source": [
    "cat_df = df_new.select_dtypes(include=['object'])\n",
    "cat_cols_lst = cat_df.columns\n",
    "df_new = create_dummy_df(df_new, cat_cols_lst, dummy_na=False)"
   ]
  },
  {
   "cell_type": "code",
   "execution_count": 257,
   "metadata": {},
   "outputs": [],
   "source": [
    "test_score, train_score, lm_model, X_train, X_test, y_train, y_test = clean_fit_linear_mod(df_new, 'price', cat_cols_lst, dummy_na=False)"
   ]
  },
  {
   "cell_type": "code",
   "execution_count": 258,
   "metadata": {},
   "outputs": [
    {
     "name": "stdout",
     "output_type": "stream",
     "text": [
      "The rsquared on the training data was 0.10323911319368428.  The rsquared on the test data was 0.11235239758896665.\n"
     ]
    }
   ],
   "source": [
    "print(\"The rsquared on the training data was {}.  The rsquared on the test data was {}.\".format(train_score, test_score))"
   ]
  },
  {
   "cell_type": "code",
   "execution_count": 261,
   "metadata": {},
   "outputs": [
    {
     "data": {
      "text/html": [
       "<div>\n",
       "<style scoped>\n",
       "    .dataframe tbody tr th:only-of-type {\n",
       "        vertical-align: middle;\n",
       "    }\n",
       "\n",
       "    .dataframe tbody tr th {\n",
       "        vertical-align: top;\n",
       "    }\n",
       "\n",
       "    .dataframe thead th {\n",
       "        text-align: right;\n",
       "    }\n",
       "</style>\n",
       "<table border=\"1\" class=\"dataframe\">\n",
       "  <thead>\n",
       "    <tr style=\"text-align: right;\">\n",
       "      <th></th>\n",
       "      <th>est_int</th>\n",
       "      <th>coefs</th>\n",
       "      <th>abs_coefs</th>\n",
       "    </tr>\n",
       "  </thead>\n",
       "  <tbody>\n",
       "    <tr>\n",
       "      <td>1</td>\n",
       "      <td>longitude</td>\n",
       "      <td>-491.921066</td>\n",
       "      <td>491.921066</td>\n",
       "    </tr>\n",
       "    <tr>\n",
       "      <td>0</td>\n",
       "      <td>latitude</td>\n",
       "      <td>-259.042873</td>\n",
       "      <td>259.042873</td>\n",
       "    </tr>\n",
       "    <tr>\n",
       "      <td>9</td>\n",
       "      <td>neighbourhood_group_Staten Island</td>\n",
       "      <td>-161.724708</td>\n",
       "      <td>161.724708</td>\n",
       "    </tr>\n",
       "    <tr>\n",
       "      <td>11</td>\n",
       "      <td>room_type_Shared room</td>\n",
       "      <td>-151.236937</td>\n",
       "      <td>151.236937</td>\n",
       "    </tr>\n",
       "    <tr>\n",
       "      <td>10</td>\n",
       "      <td>room_type_Private room</td>\n",
       "      <td>-109.509147</td>\n",
       "      <td>109.509147</td>\n",
       "    </tr>\n",
       "    <tr>\n",
       "      <td>6</td>\n",
       "      <td>neighbourhood_group_Brooklyn</td>\n",
       "      <td>-43.900817</td>\n",
       "      <td>43.900817</td>\n",
       "    </tr>\n",
       "    <tr>\n",
       "      <td>7</td>\n",
       "      <td>neighbourhood_group_Manhattan</td>\n",
       "      <td>32.088458</td>\n",
       "      <td>32.088458</td>\n",
       "    </tr>\n",
       "    <tr>\n",
       "      <td>3</td>\n",
       "      <td>reviews_per_month</td>\n",
       "      <td>-7.163875</td>\n",
       "      <td>7.163875</td>\n",
       "    </tr>\n",
       "    <tr>\n",
       "      <td>8</td>\n",
       "      <td>neighbourhood_group_Queens</td>\n",
       "      <td>-7.092315</td>\n",
       "      <td>7.092315</td>\n",
       "    </tr>\n",
       "    <tr>\n",
       "      <td>2</td>\n",
       "      <td>minimum_nights</td>\n",
       "      <td>-0.181822</td>\n",
       "      <td>0.181822</td>\n",
       "    </tr>\n",
       "    <tr>\n",
       "      <td>5</td>\n",
       "      <td>availability_365</td>\n",
       "      <td>0.174396</td>\n",
       "      <td>0.174396</td>\n",
       "    </tr>\n",
       "    <tr>\n",
       "      <td>4</td>\n",
       "      <td>calculated_host_listings_count</td>\n",
       "      <td>-0.159065</td>\n",
       "      <td>0.159065</td>\n",
       "    </tr>\n",
       "  </tbody>\n",
       "</table>\n",
       "</div>"
      ],
      "text/plain": [
       "                              est_int       coefs   abs_coefs\n",
       "1                           longitude -491.921066  491.921066\n",
       "0                            latitude -259.042873  259.042873\n",
       "9   neighbourhood_group_Staten Island -161.724708  161.724708\n",
       "11              room_type_Shared room -151.236937  151.236937\n",
       "10             room_type_Private room -109.509147  109.509147\n",
       "6        neighbourhood_group_Brooklyn  -43.900817   43.900817\n",
       "7       neighbourhood_group_Manhattan   32.088458   32.088458\n",
       "3                   reviews_per_month   -7.163875    7.163875\n",
       "8          neighbourhood_group_Queens   -7.092315    7.092315\n",
       "2                      minimum_nights   -0.181822    0.181822\n",
       "5                    availability_365    0.174396    0.174396\n",
       "4      calculated_host_listings_count   -0.159065    0.159065"
      ]
     },
     "execution_count": 261,
     "metadata": {},
     "output_type": "execute_result"
    }
   ],
   "source": [
    "def coef_weights(coefficients, X_train):\n",
    "    coefs_df = pd.DataFrame()\n",
    "    coefs_df['est_int'] = X_train.columns\n",
    "    coefs_df['coefs'] = lm_model.coef_\n",
    "    coefs_df['abs_coefs'] = np.abs(lm_model.coef_)\n",
    "    coefs_df = coefs_df.sort_values('abs_coefs', ascending=False)\n",
    "    return coefs_df\n",
    "\n",
    "#Use the function\n",
    "coef_df = coef_weights(lm_model.coef_, X_train)\n",
    "\n",
    "#A quick look at the results\n",
    "coef_df"
   ]
  }
 ],
 "metadata": {
  "kernelspec": {
   "display_name": "Python 3",
   "language": "python",
   "name": "python3"
  },
  "language_info": {
   "codemirror_mode": {
    "name": "ipython",
    "version": 3
   },
   "file_extension": ".py",
   "mimetype": "text/x-python",
   "name": "python",
   "nbconvert_exporter": "python",
   "pygments_lexer": "ipython3",
   "version": "3.7.4"
  }
 },
 "nbformat": 4,
 "nbformat_minor": 2
}
